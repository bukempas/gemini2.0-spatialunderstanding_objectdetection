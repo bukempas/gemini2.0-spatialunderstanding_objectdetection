# New Google GenAI SDK for Gemini 2.0 
!pip install -U -q google-genai

# Configure API Key and Model with Google Colab

from google.colab import userdata
from google.colab import userdata
import os
GOOGLE_API_KEY=userdata.get('GOOGLE_API_KEY')

from google import genai
from google.genai import types
client = genai.Client(api_key=GOOGLE_API_KEY)

model_name = "gemini-2.0-flash-exp"

from PIL import Image
import json

def parse_json(json_output):
    """Parses JSON from a string, removing potential markdown code block formatting."""
    lines = json_output.splitlines()
    json_content = ""
    in_json_block = False

    for line in lines:
        if line.strip() == "```json":
            in_json_block = True
        elif line.strip() == "```" and in_json_block:
            break  # End of JSON block
        elif in_json_block:
            json_content += line + "\n"

    return json_content.strip()

# Load and Preprocess Image (if necessary)
image_path = "/content/your-file.jpg"  # Make sure this path is correct
img = Image.open(image_path)
# Optional resizing, take attention the image resolution for detection
max_size = 512
if img.width > max_size or img.height > max_size:
    img.thumbnail((max_size, max_size))
width, height = img.size

# Craft the prompt
prompt = """You are an expert of welding quality Detect the defects, if there is any, in the welding image and provide bounding box information in JSON format. The output should be a single, complete JSON string and nothing else. Do not include any text other than the JSON string.

The JSON output should include:

*   object_name: The name of the detected object.
*   bounding_box: A list containing the coordinates [ymin, xmin, ymax, xmax] of the bounding box just on the object in pixel values.

Example JSON structure:

[
    {
        "object_name": "cat",
        "bounding_box": [10, 20, 150, 200]
    },
    {
        "object_name": "dog",
        "bounding_box": [200, 100, 350, 300]
    }
]
"""

#Generate Content and Handle Response
response = client.models.generate_content(
    model=model_name,
    contents=[prompt, img])
print(response.text)

from PIL import Image, ImageDraw, ImageFont
#Robust JSON Handling with parse_json function
raw_response = response.text
parsed_json_string = parse_json(raw_response)

if not parsed_json_string:
    print("Model returned an empty or incomplete JSON response.")
    print(f"Raw response text: {raw_response}")
    spatial_info = []
    # Consider retrying with a modified prompt here if needed
else:
    try:
        spatial_info = json.loads(parsed_json_string)
        print(spatial_info)
    except json.JSONDecodeError as e:
        print(f"Error parsing JSON: {e}")
        print(f"Raw response text: {raw_response}")
        print(f"Parsed JSON string: {parsed_json_string}")
        spatial_info = []  # Handle the error, set to empty list

# Draw Bounding Boxes (if successful)
draw = ImageDraw.Draw(img)
for obj in spatial_info:
    object_name = obj["object_name"]
    if obj["bounding_box"]:
        ymin, xmin, ymax, xmax = obj["bounding_box"]
        draw.rectangle([(xmin, ymin), (xmax, ymax)], outline="blue", width=5)
        # Draw text with the specified font
        draw.text((xmin, ymin - 10), object_name, fill="red")

# Display Images
display(img)

